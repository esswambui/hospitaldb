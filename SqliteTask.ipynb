{
 "cells": [
  {
   "cell_type": "markdown",
   "metadata": {},
   "source": [
    "### First create or connect to rhe database"
   ]
  },
  {
   "cell_type": "code",
   "execution_count": 48,
   "metadata": {},
   "outputs": [
    {
     "name": "stdout",
     "output_type": "stream",
     "text": [
      "Database connected\n"
     ]
    }
   ],
   "source": [
    "import sqlite3\n",
    "import csv\n",
    "\n",
    "#Create or connect to the database\n",
    "sqlite_conn = sqlite3.connect('MyHospital.db')\n",
    "\n",
    "print (\"Database connected\")\n"
   ]
  },
  {
   "cell_type": "code",
   "execution_count": 49,
   "metadata": {},
   "outputs": [
    {
     "name": "stdout",
     "output_type": "stream",
     "text": [
      "SQLite Database Version is:  [('3.33.0',)] \n",
      "\n"
     ]
    }
   ],
   "source": [
    "#Create a cursor object\n",
    "conn = sqlite_conn.cursor()\n",
    "\n",
    "# Print sqlite version\n",
    "dbversion = conn.execute(\"select sqlite_version();\")\n",
    "print(\"SQLite Database Version is: \", dbversion.fetchall(), \"\\n\")"
   ]
  },
  {
   "cell_type": "markdown",
   "metadata": {},
   "source": [
    "### Create tables and insert ecords from CSV files"
   ]
  },
  {
   "cell_type": "code",
   "execution_count": 50,
   "metadata": {},
   "outputs": [
    {
     "name": "stdout",
     "output_type": "stream",
     "text": [
      " \t Hospital Table Structure \n",
      "__________________________________________\n",
      "\n",
      "(0, 'Hospital_id', 'INT', 1, None, 1)\n",
      "(1, 'Hospital_Name', 'TEXT', 1, None, 0)\n",
      "(2, 'Bed_count', 'INT', 1, None, 0)\n"
     ]
    }
   ],
   "source": [
    "# Ceate hospital table\n",
    "conn.execute(''' CREATE TABLE IF NOT EXISTS Hospital\n",
    "            (Hospital_id INT PRIMARY KEY NOT NULL,\n",
    "             Hospital_Name TEXT NOT NULL,\n",
    "             Bed_count INT NOT NULL);''')\n",
    "\n",
    "# Display the structure of the hospital table\n",
    "ht_info = conn.execute(\"PRAGMA table_info('Hospital');\")\n",
    "print(\" \\t Hospital Table Structure \")\n",
    "print(\"__________________________________________\\n\")\n",
    "for x in ht_info.fetchall():\n",
    "    print(x)"
   ]
  },
  {
   "cell_type": "code",
   "execution_count": 51,
   "metadata": {},
   "outputs": [
    {
     "name": "stdout",
     "output_type": "stream",
     "text": [
      "Records added\n"
     ]
    }
   ],
   "source": [
    "# Read from csv file\n",
    "with open('D:\\hospitaldb\\hospitals.csv', 'r') as hospitalrec:\n",
    "    h_reader = csv.reader(hospitalrec)\n",
    "    \n",
    "    next(h_reader) #Skip the first row \n",
    "    \n",
    "    #insert records line by line\n",
    "    for rec in h_reader:\n",
    "        conn.execute(\"INSERT OR REPLACE INTO Hospital VALUES (?, ?, ?);\", rec)\n",
    "        sqlite_conn.commit()\n",
    "print(\"Records added\")\n"
   ]
  },
  {
   "cell_type": "code",
   "execution_count": 52,
   "metadata": {},
   "outputs": [
    {
     "name": "stdout",
     "output_type": "stream",
     "text": [
      " \n",
      "\t Doctor Table Structure \n",
      "_____________________________________\n",
      "\n",
      "(0, 'Doctor_id', 'INT', 1, None, 1)\n",
      "(1, 'Doctor_Name', 'TEXT', 1, None, 0)\n",
      "(2, 'Hospital_id', 'INT', 1, None, 0)\n",
      "(3, 'Date_joined', 'TEXT', 1, None, 0)\n",
      "(4, 'Speciality', 'TEXT', 1, None, 0)\n",
      "(5, 'Salary', 'INT', 1, None, 0)\n",
      "(6, 'Experience', 'TEXT', 1, None, 0)\n"
     ]
    }
   ],
   "source": [
    "# Create Table\n",
    "conn.execute(''' CREATE TABLE IF NOT EXISTS Doctor\n",
    "            (  Doctor_id INT PRIMARY KEY NOT NULL,\n",
    "              Doctor_Name TEXT NOT NULL,\n",
    "              Hospital_id INT NOT NULL,\n",
    "              Date_joined TEXT NOT NULL,\n",
    "              Speciality TEXT NOT NULL,\n",
    "              Salary INT NOT NULL,\n",
    "              Experience TEXT NOT NULL,\n",
    "              FOREIGN KEY (Hospital_id)\n",
    "                REFERENCES Hospital (Hospital_id) );''')\n",
    "\n",
    "# Display Table structure\n",
    "dt_info = conn.execute(\"PRAGMA table_info('Doctor');\")\n",
    "print(\" \\n\\t Doctor Table Structure \")\n",
    "print(\"_____________________________________\\n\")\n",
    "for d in dt_info.fetchall():\n",
    "    print(d)"
   ]
  },
  {
   "cell_type": "code",
   "execution_count": 53,
   "metadata": {},
   "outputs": [
    {
     "name": "stdout",
     "output_type": "stream",
     "text": [
      "Records added\n"
     ]
    }
   ],
   "source": [
    "# Read from csv file\n",
    "with open('D:\\hospitaldb\\doctors.csv', 'r') as docrec:\n",
    "    d_reader = csv.reader(docrec)\n",
    "    \n",
    "    next(d_reader) #dkip first ecord\n",
    "    for rec in d_reader:\n",
    "        conn.execute(\n",
    "            \"INSERT OR REPLACE INTO Doctor VALUES (?, ?, ?, ?, ?, ?, ?);\", rec)\n",
    "        sqlite_conn.commit()\n",
    "print(\"Records added\")\n",
    "\n"
   ]
  },
  {
   "cell_type": "markdown",
   "metadata": {},
   "source": [
    "### Join the tables to dIsplay doctor records with Hospital_id similar to those available in hospital table"
   ]
  },
  {
   "cell_type": "code",
   "execution_count": 40,
   "metadata": {},
   "outputs": [
    {
     "name": "stdout",
     "output_type": "stream",
     "text": [
      " \n",
      "\t\t\t\t Records \n",
      "______________________________________________________________________________\n",
      "\n",
      "(1, 'Mercy', 3847, '13-Mar-20', 'ENT', 'Junior', '50000', 3847, 'Mater', 300) \n",
      "\n",
      "(2, 'Mike', 3846, '29-Jun-18', 'Neurology', 'Senior', '80000', 3846, 'Agakhan', 600) \n",
      "\n",
      "(3, 'John', 1023, '2-Jan-19', 'Gynacology', 'Senior', '70000', 1023, 'Nairobi', 500) \n",
      "\n",
      "(4, 'Esther', 4756, '3-Apr-20', 'Psychiatry', 'Intern', '20000', 4756, 'Meridian', 100) \n",
      "\n",
      "(5, 'Timothy', 2834, '21-Aug-19', 'Orthopedics', 'Junior', '60000', 2834, 'Metropolitan', 300) \n",
      "\n"
     ]
    }
   ],
   "source": [
    "def my_join():\n",
    "#Query to create inner join\n",
    "hos_join = conn.execute('''SELECT * FROM Doctor INNER JOIN Hospital \n",
    "                        ON Hospital.Hospital_id = Doctor.Hospital_id;''')\n",
    "#Display records\n",
    "print(\" \\n\\t\\t\\t\\t Records \")\n",
    "print(\"______________________________________________________________________________\\n\")\n",
    "for j in hos_join.fetchall():\n",
    "    print(j, \"\\n\")\n",
    "    \n",
    "#call the function    \n",
    "my_join()\n",
    "    \n",
    "#close cursor    \n",
    "conn.close()"
   ]
  },
  {
   "cell_type": "code",
   "execution_count": null,
   "metadata": {},
   "outputs": [],
   "source": []
  }
 ],
 "metadata": {
  "kernelspec": {
   "display_name": "Python 3",
   "language": "python",
   "name": "python3"
  },
  "language_info": {
   "codemirror_mode": {
    "name": "ipython",
    "version": 3
   },
   "file_extension": ".py",
   "mimetype": "text/x-python",
   "name": "python",
   "nbconvert_exporter": "python",
   "pygments_lexer": "ipython3",
   "version": "3.8.5"
  }
 },
 "nbformat": 4,
 "nbformat_minor": 4
}
